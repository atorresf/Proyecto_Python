{
  "nbformat": 4,
  "nbformat_minor": 0,
  "metadata": {
    "colab": {
      "provenance": [],
      "authorship_tag": "ABX9TyOhgRtIqRWUQDefZR6vY2m8",
      "include_colab_link": true
    },
    "kernelspec": {
      "name": "python3",
      "display_name": "Python 3"
    },
    "language_info": {
      "name": "python"
    }
  },
  "cells": [
    {
      "cell_type": "markdown",
      "metadata": {
        "id": "view-in-github",
        "colab_type": "text"
      },
      "source": [
        "<a href=\"https://colab.research.google.com/github/atorresf/Proyecto_Python/blob/main/proyecto_python.ipynb\" target=\"_parent\"><img src=\"https://colab.research.google.com/assets/colab-badge.svg\" alt=\"Open In Colab\"/></a>"
      ]
    },
    {
      "cell_type": "markdown",
      "source": [
        "**DATASET DE QUEJAS QUE REPORTA PROFECO DEL AÑO 2022**\n",
        "\n",
        "Se escogió analizar este tema después de realizar una queja en PREFECO me surgió la inquietud de saber más sobre la cantidad y motivos principales que la gente tiene para realizar quejas, así como saber que sectores son los que más quejas tienen y si son resueltas o no.\n",
        "\n",
        "Se obtuvo el dataset de la página del gobierno \n",
        "\n",
        "https://datos.profeco.gob.mx/datos_abiertos/\n",
        "\n",
        "El dataset se dividió en 2 y se agrega la parte de quejas de telecomunicaciones, por lo que son 3 archivos que se concatenan en un df con el cual se trabaja."
      ],
      "metadata": {
        "id": "D2MT0KE6BJ9Y"
      }
    },
    {
      "cell_type": "markdown",
      "source": [
        "Se cargan las librerias necesarias para la ejecución del script y la primera parte se realiza la limpieza del dataset"
      ],
      "metadata": {
        "id": "w4pVjgH3B7UW"
      }
    },
    {
      "cell_type": "code",
      "execution_count": 219,
      "metadata": {
        "id": "TEMBprGgMkrN"
      },
      "outputs": [],
      "source": [
        "import pandas as pd\n",
        "import matplotlib.pyplot as plt"
      ]
    },
    {
      "cell_type": "code",
      "source": [
        "#Función para evitar error al hacer la importación de archivo\n",
        "def convert_dtype(x):\n",
        "    if not x:\n",
        "        return ''\n",
        "    try:\n",
        "        return str(x)   \n",
        "    except:        \n",
        "        return ''"
      ],
      "metadata": {
        "id": "MIuy4mU0jP07"
      },
      "execution_count": 220,
      "outputs": []
    },
    {
      "cell_type": "code",
      "source": [
        "#hacer lista con los datos\n",
        "archivos = [\n",
        "      'https://raw.githubusercontent.com/atorresf/datasets/main/DATOS_PROFECO_2022_01.csv',\n",
        "      'https://raw.githubusercontent.com/atorresf/datasets/main/DATOS_PROFECO_2022_02.csv',\n",
        "      'https://raw.githubusercontent.com/atorresf/datasets/main/DATOS_TELECOMUN_2022.csv'\n",
        "]\n",
        "\n",
        "#cargar los datos en df\n",
        "df1 = pd.read_csv(archivos[0], converters={'TIPO_RECLAMACION': convert_dtype,'MOTIVO_RECLAMACION': convert_dtype})\n",
        "df2 = pd.read_csv(archivos[1], converters={'TIPO_RECLAMACION': convert_dtype,'MOTIVO_RECLAMACION': convert_dtype})\n",
        "df3 = pd.read_csv(archivos[2], converters={'TIPO_RECLAMACION': convert_dtype,'MOTIVO_RECLAMACION': convert_dtype})\n"
      ],
      "metadata": {
        "id": "od26DJ6UMtco"
      },
      "execution_count": 221,
      "outputs": []
    },
    {
      "cell_type": "code",
      "source": [
        "df1.dtypes"
      ],
      "metadata": {
        "colab": {
          "base_uri": "https://localhost:8080/"
        },
        "id": "6WsVhIjBK-gM",
        "outputId": "b2076f78-69fd-4606-d380-2c8a69448057"
      },
      "execution_count": 185,
      "outputs": [
        {
          "output_type": "execute_result",
          "data": {
            "text/plain": [
              "ID_EXP                  object\n",
              "FECHA_INGRESO           object\n",
              "FECHA DE CIERRE         object\n",
              "TIPO_CONCILIACION       object\n",
              "ESTADO_PROCESAL         object\n",
              "PROVEEDOR               object\n",
              "NOMBRE_COMERCIAL        object\n",
              "GIRO                    object\n",
              "SECTOR                  object\n",
              "ODECO                   object\n",
              "ESTADO_UA               object\n",
              "TIPO_RECLAMACION        object\n",
              "MOTIVO_RECLAMACION      object\n",
              "COSTO BIEN SERVICIO     object\n",
              "MONTO RECLAMADO         object\n",
              "MONTO RECUPERADO        object\n",
              "PROCEDIMIENTO           object\n",
              "BIEN O SERV             object\n",
              "MEDIO INGRESO           object\n",
              "TIPO PROD               object\n",
              "MODALIDAD COMPRA        object\n",
              "MODALIDAD PAGO          object\n",
              "PROB ESPECIAL           object\n",
              "Unnamed: 23            float64\n",
              "Unnamed: 24            float64\n",
              "dtype: object"
            ]
          },
          "metadata": {},
          "execution_count": 185
        }
      ]
    },
    {
      "cell_type": "code",
      "source": [
        "df2.dtypes"
      ],
      "metadata": {
        "colab": {
          "base_uri": "https://localhost:8080/"
        },
        "id": "dHCHV5reLE8E",
        "outputId": "5b8cc1d7-9663-4d13-8694-93f2fb6af03b"
      },
      "execution_count": 186,
      "outputs": [
        {
          "output_type": "execute_result",
          "data": {
            "text/plain": [
              "ID_EXP                  object\n",
              "FECHA_INGRESO           object\n",
              "FECHA DE CIERRE         object\n",
              "TIPO_CONCILIACION       object\n",
              "ESTADO_PROCESAL         object\n",
              "PROVEEDOR               object\n",
              "NOMBRE_COMERCIAL        object\n",
              "GIRO                    object\n",
              "SECTOR                  object\n",
              "ODECO                   object\n",
              "ESTADO_UA               object\n",
              "TIPO_RECLAMACION        object\n",
              "MOTIVO_RECLAMACION      object\n",
              "COSTO BIEN SERVICIO     object\n",
              "MONTO RECLAMADO         object\n",
              "MONTO RECUPERADO        object\n",
              "PROCEDIMIENTO           object\n",
              "BIEN O SERV             object\n",
              "MEDIO INGRESO           object\n",
              "TIPO PROD               object\n",
              "MODALIDAD COMPRA        object\n",
              "MODALIDAD PAGO          object\n",
              "PROB ESPECIAL           object\n",
              "Unnamed: 23            float64\n",
              "Unnamed: 24            float64\n",
              "dtype: object"
            ]
          },
          "metadata": {},
          "execution_count": 186
        }
      ]
    },
    {
      "cell_type": "code",
      "source": [
        "df3.dtypes"
      ],
      "metadata": {
        "colab": {
          "base_uri": "https://localhost:8080/"
        },
        "id": "F3eC8AWHLH-F",
        "outputId": "832347c7-22ef-453b-c98e-6b3b37df46b6"
      },
      "execution_count": 187,
      "outputs": [
        {
          "output_type": "execute_result",
          "data": {
            "text/plain": [
              "EXPEDIENTE               object\n",
              "FECHA DE INGRESO         object\n",
              "FECHA DE CIERRE          object\n",
              "TIPO DE CONCILIACIÓN     object\n",
              "ESTADO PROCESAL          object\n",
              "PROVEEDOR                object\n",
              "NOMBRE COMERCIAL         object\n",
              "GIRO                     object\n",
              "SECTOR                   object\n",
              "ODECO                    object\n",
              "ESTADO                   object\n",
              "TIPO DE RECLAMACIÓN      object\n",
              "MOTIVO DE RECLAMACIÓN    object\n",
              "COSTO BIEN O SERVICIO    object\n",
              "MONTO RECLAMADO          object\n",
              "MONTO RECUPERADO         object\n",
              "PROCEDIMIENTO            object\n",
              "BIEN O SERVICIO          object\n",
              "MEDIO DE INGRESO         object\n",
              "TIPO PRODUCTO            object\n",
              "MODALIDAD DE COMPRA      object\n",
              "MODALIDAD PAGO           object\n",
              "PROBLEMA ESPECIAL        object\n",
              "dtype: object"
            ]
          },
          "metadata": {},
          "execution_count": 187
        }
      ]
    },
    {
      "cell_type": "code",
      "source": [
        "#homologar nombres de columnas en cada df\n",
        "nuevos_nombres = { \n",
        "    'ID_EXP':'ID_EXP', \n",
        "    'FECHA_INGRESO':'FECHA_INGRESO', \n",
        "    'FECHA DE CIERRE':'FECHA_CIERRE', \n",
        "    'TIPO_CONCILIACION':'TIPO_CONCILIACION',\n",
        "    'ESTADO_PROCESAL':'ESTADO_PROCESAL', \n",
        "    'PROVEEDOR':'PROVEEDOR', \n",
        "    'NOMBRE_COMERCIAL':'NOMBRE_COMERCIAL', \n",
        "    'GIRO':'GIRO', \n",
        "    'SECTOR':'SECTOR',\n",
        "    'ODECO':'ODECO', \n",
        "    'ESTADO_UA':'ESTADO', \n",
        "    'TIPO_RECLAMACION':'TIPO_RECLAMACION', \n",
        "    'MOTIVO_RECLAMACION':'MOTIVO_RECLAMACION',\n",
        "    'COSTO BIEN SERVICIO':'COSTO_BIEN_SERVICIO', \n",
        "    'MONTO RECLAMADO':'MONTO_RECLAMADO', \n",
        "    'MONTO RECUPERADO':'MONTO_RECUPERADO',\n",
        "    'PROCEDIMIENTO':'PROCEDIMIENTO', \n",
        "    'BIEN O SERV':'BIEN_O_SERVICIO', \n",
        "    'MEDIO INGRESO':'MEDIO_INGRESO', \n",
        "    'TIPO PROD':'TIPO_PRODUCTO',\n",
        "    'MODALIDAD COMPRA':'MODALIDAD_COMPRA',\n",
        "    'MODALIDAD PAGO':'MODALIDAD_PAGO',\n",
        "    'PROB ESPECIAL':'PROBLEMA_ESPECIAL', \n",
        "    'Unnamed: 23':'Unnamed_23',\n",
        "    'Unnamed: 24':'Unnamed_24'\n",
        "}\n",
        "\n",
        "nuevos_nombres2 = { \n",
        "'EXPEDIENTE':'ID_EXP',\n",
        "'FECHA DE INGRESO':'FECHA_INGRESO',\n",
        "'FECHA DE CIERRE':'FECHA_CIERRE', \n",
        "'TIPO DE CONCILIACIÓN':'TIPO_CONCILIACION',\n",
        "'ESTADO PROCESAL':'ESTADO_PROCESAL',\n",
        "'PROVEEDOR':'PROVEEDOR', \n",
        "'NOMBRE COMERCIAL':'NOMBRE_COMERCIAL', \n",
        "'GIRO':'GIRO', \n",
        "'SECTOR':'SECTOR',\n",
        "'ODECO':'ODECO',\n",
        "'ESTADO':'ESTADO',\n",
        "'TIPO DE RECLAMACIÓN':'TIPO_RECLAMACION', \n",
        "'MOTIVO DE RECLAMACIÓN':'MOTIVO_RECLAMACION',\n",
        "'COSTO BIEN O SERVICIO':'COSTO_BIEN_SERVICIO', \n",
        "'MONTO RECLAMADO':'MONTO_RECLAMADO',\n",
        "'MONTO RECUPERADO':'MONTO_RECUPERADO',\n",
        "'PROCEDIMIENTO':'PROCEDIMIENTO',\n",
        "'BIEN O SERVICIO':'BIEN_O_SERVICIO',\n",
        "'MEDIO DE INGRESO':'MEDIO_INGRESO', \n",
        "'TIPO PRODUCTO':'TIPO_PRODUCTO',\n",
        "'MODALIDAD DE COMPRA':'MODALIDAD_COMPRA',\n",
        "'MODALIDAD PAGO':'MODALIDAD_PAGO',\n",
        "'PROBLEMA ESPECIAL':'PROBLEMA_ESPECIAL'\n",
        "}\n",
        "\n",
        "df1.rename(columns=nuevos_nombres, inplace=True)\n",
        "df2.rename(columns=nuevos_nombres, inplace=True)\n",
        "df3.rename(columns=nuevos_nombres2, inplace=True)"
      ],
      "metadata": {
        "id": "G33tJregLJwu"
      },
      "execution_count": 222,
      "outputs": []
    },
    {
      "cell_type": "code",
      "source": [
        "#Concatenando los 3 archivos en un solo df\n",
        "df = pd.concat([df1, df2, df3])\n"
      ],
      "metadata": {
        "id": "T_5qyzH9DykB"
      },
      "execution_count": 224,
      "outputs": []
    },
    {
      "cell_type": "code",
      "source": [
        "# Revisando que el df final tenga las mismas columnas \n",
        "df.dtypes"
      ],
      "metadata": {
        "colab": {
          "base_uri": "https://localhost:8080/"
        },
        "id": "tp-b-HfwKeN2",
        "outputId": "e1473042-fd2f-4594-8def-49854e67ee7e"
      },
      "execution_count": 225,
      "outputs": [
        {
          "output_type": "execute_result",
          "data": {
            "text/plain": [
              "ID_EXP                  object\n",
              "FECHA_INGRESO           object\n",
              "FECHA_CIERRE            object\n",
              "TIPO_CONCILIACION       object\n",
              "ESTADO_PROCESAL         object\n",
              "PROVEEDOR               object\n",
              "NOMBRE_COMERCIAL        object\n",
              "GIRO                    object\n",
              "SECTOR                  object\n",
              "ODECO                   object\n",
              "ESTADO                  object\n",
              "TIPO_RECLAMACION        object\n",
              "MOTIVO_RECLAMACION      object\n",
              "COSTO_BIEN_SERVICIO     object\n",
              "MONTO_RECLAMADO         object\n",
              "MONTO_RECUPERADO        object\n",
              "PROCEDIMIENTO           object\n",
              "BIEN_O_SERVICIO         object\n",
              "MEDIO_INGRESO           object\n",
              "TIPO_PRODUCTO           object\n",
              "MODALIDAD_COMPRA        object\n",
              "MODALIDAD_PAGO          object\n",
              "PROBLEMA_ESPECIAL       object\n",
              "Unnamed_23             float64\n",
              "Unnamed_24             float64\n",
              "dtype: object"
            ]
          },
          "metadata": {},
          "execution_count": 225
        }
      ]
    },
    {
      "cell_type": "code",
      "source": [
        "df.shape"
      ],
      "metadata": {
        "colab": {
          "base_uri": "https://localhost:8080/"
        },
        "id": "O6A2b4ZVT35R",
        "outputId": "197fd086-139f-43ad-d775-592f0add84f9"
      },
      "execution_count": 226,
      "outputs": [
        {
          "output_type": "execute_result",
          "data": {
            "text/plain": [
              "(91777, 25)"
            ]
          },
          "metadata": {},
          "execution_count": 226
        }
      ]
    },
    {
      "cell_type": "code",
      "source": [
        "#Haciendo limpieza del df final, quitándo columnas que no necesitamos\n",
        "df.drop([\"Unnamed_23\", \"Unnamed_24\",'ODECO','ID_EXP'], axis=1, inplace=True)"
      ],
      "metadata": {
        "id": "khtwEkErTu8-"
      },
      "execution_count": 227,
      "outputs": []
    },
    {
      "cell_type": "code",
      "source": [
        "df.shape"
      ],
      "metadata": {
        "colab": {
          "base_uri": "https://localhost:8080/"
        },
        "id": "T1auOGOxUMqQ",
        "outputId": "3b582314-9e91-4b35-80f1-bb4ba4fe3c13"
      },
      "execution_count": 194,
      "outputs": [
        {
          "output_type": "execute_result",
          "data": {
            "text/plain": [
              "(91777, 21)"
            ]
          },
          "metadata": {},
          "execution_count": 194
        }
      ]
    },
    {
      "cell_type": "code",
      "source": [
        "#quitando núlos y registros con carácteres raros\n",
        "guiones = ['BIEN_O_SERVICIO','MODALIDAD_PAGO','TIPO_CONCILIACION','ESTADO_PROCESAL','GIRO','TIPO_RECLAMACION','PROCEDIMIENTO','MEDIO_INGRESO','TIPO_PRODUCTO','MONTO_RECUPERADO']\n",
        "ceros = ['PROVEEDOR','NOMBRE_COMERCIAL','GIRO','TIPO_RECLAMACION']\n",
        "ND = ['TIPO_CONCILIACION','ESTADO_PROCESAL']\n",
        "\n",
        "for guion in guiones:\n",
        "  df = df[df[guion] != '-']\n",
        "\n",
        "for cero in ceros:\n",
        "  df = df[df[guion] != '0']\n",
        "\n",
        "for nd in ND:\n",
        "  df = df[df[nd] != '#N/D']\n",
        "\n",
        "vacios = ['ESTADO','BIEN_O_SERVICIO','MODALIDAD_PAGO','TIPO_RECLAMACION','MOTIVO_RECLAMACION','MEDIO_INGRESO','TIPO_PRODUCTO']\n",
        "\n",
        "df = df.dropna(subset=vacios)\n",
        "\n"
      ],
      "metadata": {
        "id": "10VaRGEIUQ5H"
      },
      "execution_count": 228,
      "outputs": []
    },
    {
      "cell_type": "code",
      "source": [
        "#quitamos el caracter '$' y ',' de las columnas de costos\n",
        "\n",
        "df[\"COSTO_BIEN_SERVICIO\"] = df[\"COSTO_BIEN_SERVICIO\"].str.replace(\"$\", \"\", regex=False)\n",
        "df[\"MONTO_RECLAMADO\"] = df[\"MONTO_RECLAMADO\"].str.replace(\"$\", \"\", regex=False)\n",
        "df[\"MONTO_RECUPERADO\"] = df[\"MONTO_RECUPERADO\"].str.replace(\"$\", \"\", regex=False)\n",
        "\n",
        "df[\"COSTO_BIEN_SERVICIO\"] = df[\"COSTO_BIEN_SERVICIO\"].str.replace(\",\", \"\", regex=False)\n",
        "df[\"MONTO_RECLAMADO\"] = df[\"MONTO_RECLAMADO\"].str.replace(\",\", \"\", regex=False)\n",
        "df[\"MONTO_RECUPERADO\"] = df[\"MONTO_RECUPERADO\"].str.replace(\",\", \"\", regex=False)\n",
        "\n",
        "df[\"MONTO_RECUPERADO\"] = df[\"MONTO_RECUPERADO\"].str.replace(\"-\", \"0\", regex=False)"
      ],
      "metadata": {
        "id": "bbLYP2mZqMri"
      },
      "execution_count": 229,
      "outputs": []
    },
    {
      "cell_type": "code",
      "source": [
        "df.shape"
      ],
      "metadata": {
        "colab": {
          "base_uri": "https://localhost:8080/"
        },
        "id": "kLoGQccyUSje",
        "outputId": "177af10d-f0a1-4b73-df60-0d264f9206fd"
      },
      "execution_count": 197,
      "outputs": [
        {
          "output_type": "execute_result",
          "data": {
            "text/plain": [
              "(82790, 21)"
            ]
          },
          "metadata": {},
          "execution_count": 197
        }
      ]
    },
    {
      "cell_type": "code",
      "source": [
        "df.dtypes"
      ],
      "metadata": {
        "colab": {
          "base_uri": "https://localhost:8080/"
        },
        "id": "ysv0N4j7k5rd",
        "outputId": "a69e45ac-7985-4105-9fc5-881b2e6d0860"
      },
      "execution_count": 230,
      "outputs": [
        {
          "output_type": "execute_result",
          "data": {
            "text/plain": [
              "FECHA_INGRESO          object\n",
              "FECHA_CIERRE           object\n",
              "TIPO_CONCILIACION      object\n",
              "ESTADO_PROCESAL        object\n",
              "PROVEEDOR              object\n",
              "NOMBRE_COMERCIAL       object\n",
              "GIRO                   object\n",
              "SECTOR                 object\n",
              "ESTADO                 object\n",
              "TIPO_RECLAMACION       object\n",
              "MOTIVO_RECLAMACION     object\n",
              "COSTO_BIEN_SERVICIO    object\n",
              "MONTO_RECLAMADO        object\n",
              "MONTO_RECUPERADO       object\n",
              "PROCEDIMIENTO          object\n",
              "BIEN_O_SERVICIO        object\n",
              "MEDIO_INGRESO          object\n",
              "TIPO_PRODUCTO          object\n",
              "MODALIDAD_COMPRA       object\n",
              "MODALIDAD_PAGO         object\n",
              "PROBLEMA_ESPECIAL      object\n",
              "dtype: object"
            ]
          },
          "metadata": {},
          "execution_count": 230
        }
      ]
    },
    {
      "cell_type": "code",
      "source": [
        "#Convertir columnas a tipo de dato float y date\n",
        "\n",
        "df[\"COSTO_BIEN_SERVICIO\"] = df[\"COSTO_BIEN_SERVICIO\"].astype(float)\n",
        "df[\"MONTO_RECLAMADO\"] = df[\"MONTO_RECLAMADO\"].astype(float)\n",
        "df[\"MONTO_RECUPERADO\"] = df[\"MONTO_RECUPERADO\"].astype(float)\n",
        "df[\"FECHA_INGRESO\"] = pd.to_datetime(df[\"FECHA_INGRESO\"], dayfirst = True, errors = 'coerce')\n",
        "df[\"FECHA_CIERRE\"] = pd.to_datetime(df[\"FECHA_CIERRE\"], dayfirst = True, errors = 'coerce')"
      ],
      "metadata": {
        "id": "sx5h_WHpkYbE"
      },
      "execution_count": 231,
      "outputs": []
    },
    {
      "cell_type": "code",
      "source": [
        "df.dtypes"
      ],
      "metadata": {
        "colab": {
          "base_uri": "https://localhost:8080/"
        },
        "id": "cvZ5_whMsdiP",
        "outputId": "d4f82748-3bef-41cb-93aa-e6e6fadd00cb"
      },
      "execution_count": 232,
      "outputs": [
        {
          "output_type": "execute_result",
          "data": {
            "text/plain": [
              "FECHA_INGRESO          datetime64[ns]\n",
              "FECHA_CIERRE           datetime64[ns]\n",
              "TIPO_CONCILIACION              object\n",
              "ESTADO_PROCESAL                object\n",
              "PROVEEDOR                      object\n",
              "NOMBRE_COMERCIAL               object\n",
              "GIRO                           object\n",
              "SECTOR                         object\n",
              "ESTADO                         object\n",
              "TIPO_RECLAMACION               object\n",
              "MOTIVO_RECLAMACION             object\n",
              "COSTO_BIEN_SERVICIO           float64\n",
              "MONTO_RECLAMADO               float64\n",
              "MONTO_RECUPERADO              float64\n",
              "PROCEDIMIENTO                  object\n",
              "BIEN_O_SERVICIO                object\n",
              "MEDIO_INGRESO                  object\n",
              "TIPO_PRODUCTO                  object\n",
              "MODALIDAD_COMPRA               object\n",
              "MODALIDAD_PAGO                 object\n",
              "PROBLEMA_ESPECIAL              object\n",
              "dtype: object"
            ]
          },
          "metadata": {},
          "execution_count": 232
        }
      ]
    },
    {
      "cell_type": "code",
      "source": [
        "df.head()"
      ],
      "metadata": {
        "colab": {
          "base_uri": "https://localhost:8080/",
          "height": 473
        },
        "id": "bs2zbb4NtFIm",
        "outputId": "00022ba2-a19f-42b5-a873-88c20253b6f5"
      },
      "execution_count": 233,
      "outputs": [
        {
          "output_type": "execute_result",
          "data": {
            "text/plain": [
              "  FECHA_INGRESO FECHA_CIERRE              TIPO_CONCILIACION ESTADO_PROCESAL  \\\n",
              "0    2022-01-03   2022-09-06  Turnada a Concil Person p/seg   Desistimiento   \n",
              "1    2022-01-03   2022-06-30  Turnada a Concil Person p/seg   Desistimiento   \n",
              "2    2022-01-03   2022-02-22  Turnada a Concil Person p/seg   Desistimiento   \n",
              "3    2022-01-03   2022-03-03  Turnada a Concil Person p/seg      Conciliada   \n",
              "4    2022-01-03   2022-04-21  Turnada a Concil Person p/seg      Conciliada   \n",
              "\n",
              "                                           PROVEEDOR  \\\n",
              "0  CONCESIONARIA VUELA COMPAÑIA DE AVIACION, SAPI...   \n",
              "1                            COMERCIAL IAC, SA DE CV   \n",
              "2                           FRANCISCO GARCIA SANTANA   \n",
              "3                          MINISO MEXICO, SAPI DE CV   \n",
              "4                    WHIRLPOOL MEXICO, S DE RL DE CV   \n",
              "\n",
              "            NOMBRE_COMERCIAL                                             GIRO  \\\n",
              "0                    VOLARIS                              AEROLÍNEA COMERCIAL   \n",
              "1    COMERCIAL IAC, SA DE CV                                   TIENDA DE ROPA   \n",
              "2   FRANCISCO GARCIA SANTANA                                         HERRERÍA   \n",
              "3  MINISO MEXICO, SAPI DE CV                             TIENDA DEPARTAMENTAL   \n",
              "4                  WHIRLPOOL  FABRICACIÓN DE ELECTRODOMÉSTICOS Y LÍNEA BLANCA   \n",
              "\n",
              "                                            SECTOR          ESTADO  \\\n",
              "0                                        TURÍSTICO  AGUASCALIENTES   \n",
              "1                                   TIENDA DE ROPA  AGUASCALIENTES   \n",
              "2                                         HERRERÍA  AGUASCALIENTES   \n",
              "3                             TIENDA DEPARTAMENTAL  AGUASCALIENTES   \n",
              "4  FABRICACIÓN DE ELECTRODOMÉSTICOS Y LÍNEA BLANCA  AGUASCALIENTES   \n",
              "\n",
              "                         TIPO_RECLAMACION  ... COSTO_BIEN_SERVICIO  \\\n",
              "0  Cambios, devoluciones o bonificaciones  ...             1995.00   \n",
              "1                          Cobro indebido  ...              279.98   \n",
              "2         Entrega del producto o servicio  ...             4500.00   \n",
              "3       Publicidad, ofertas y promociones  ...              299.90   \n",
              "4                               Garantías  ...             5999.00   \n",
              "\n",
              "   MONTO_RECLAMADO  MONTO_RECUPERADO          PROCEDIMIENTO BIEN_O_SERVICIO  \\\n",
              "0              NaN               NaN  Conciliación personal        Servicio   \n",
              "1              NaN               NaN  Conciliación personal            Bien   \n",
              "2              NaN               NaN  Conciliación personal        Servicio   \n",
              "3             60.0              60.0  Conciliación personal            Bien   \n",
              "4              0.0               NaN  Conciliación personal            Bien   \n",
              "\n",
              "  MEDIO_INGRESO    TIPO_PRODUCTO           MODALIDAD_COMPRA MODALIDAD_PAGO  \\\n",
              "0      Personal  Servicio normal               Por internet        Contado   \n",
              "1      Personal  Servicio normal  En establecimiento físico        Contado   \n",
              "2      Personal  Servicio normal  En establecimiento físico        Contado   \n",
              "3      Personal   Producto nuevo  En establecimiento físico        Contado   \n",
              "4      Personal   Producto nuevo  En establecimiento físico        Contado   \n",
              "\n",
              "      PROBLEMA_ESPECIAL  \n",
              "0  No problema especial  \n",
              "1  No problema especial  \n",
              "2  No problema especial  \n",
              "3  No problema especial  \n",
              "4  No problema especial  \n",
              "\n",
              "[5 rows x 21 columns]"
            ],
            "text/html": [
              "\n",
              "  <div id=\"df-3d38a294-710c-45ba-b34a-6c51cd31eb65\">\n",
              "    <div class=\"colab-df-container\">\n",
              "      <div>\n",
              "<style scoped>\n",
              "    .dataframe tbody tr th:only-of-type {\n",
              "        vertical-align: middle;\n",
              "    }\n",
              "\n",
              "    .dataframe tbody tr th {\n",
              "        vertical-align: top;\n",
              "    }\n",
              "\n",
              "    .dataframe thead th {\n",
              "        text-align: right;\n",
              "    }\n",
              "</style>\n",
              "<table border=\"1\" class=\"dataframe\">\n",
              "  <thead>\n",
              "    <tr style=\"text-align: right;\">\n",
              "      <th></th>\n",
              "      <th>FECHA_INGRESO</th>\n",
              "      <th>FECHA_CIERRE</th>\n",
              "      <th>TIPO_CONCILIACION</th>\n",
              "      <th>ESTADO_PROCESAL</th>\n",
              "      <th>PROVEEDOR</th>\n",
              "      <th>NOMBRE_COMERCIAL</th>\n",
              "      <th>GIRO</th>\n",
              "      <th>SECTOR</th>\n",
              "      <th>ESTADO</th>\n",
              "      <th>TIPO_RECLAMACION</th>\n",
              "      <th>...</th>\n",
              "      <th>COSTO_BIEN_SERVICIO</th>\n",
              "      <th>MONTO_RECLAMADO</th>\n",
              "      <th>MONTO_RECUPERADO</th>\n",
              "      <th>PROCEDIMIENTO</th>\n",
              "      <th>BIEN_O_SERVICIO</th>\n",
              "      <th>MEDIO_INGRESO</th>\n",
              "      <th>TIPO_PRODUCTO</th>\n",
              "      <th>MODALIDAD_COMPRA</th>\n",
              "      <th>MODALIDAD_PAGO</th>\n",
              "      <th>PROBLEMA_ESPECIAL</th>\n",
              "    </tr>\n",
              "  </thead>\n",
              "  <tbody>\n",
              "    <tr>\n",
              "      <th>0</th>\n",
              "      <td>2022-01-03</td>\n",
              "      <td>2022-09-06</td>\n",
              "      <td>Turnada a Concil Person p/seg</td>\n",
              "      <td>Desistimiento</td>\n",
              "      <td>CONCESIONARIA VUELA COMPAÑIA DE AVIACION, SAPI...</td>\n",
              "      <td>VOLARIS</td>\n",
              "      <td>AEROLÍNEA COMERCIAL</td>\n",
              "      <td>TURÍSTICO</td>\n",
              "      <td>AGUASCALIENTES</td>\n",
              "      <td>Cambios, devoluciones o bonificaciones</td>\n",
              "      <td>...</td>\n",
              "      <td>1995.00</td>\n",
              "      <td>NaN</td>\n",
              "      <td>NaN</td>\n",
              "      <td>Conciliación personal</td>\n",
              "      <td>Servicio</td>\n",
              "      <td>Personal</td>\n",
              "      <td>Servicio normal</td>\n",
              "      <td>Por internet</td>\n",
              "      <td>Contado</td>\n",
              "      <td>No problema especial</td>\n",
              "    </tr>\n",
              "    <tr>\n",
              "      <th>1</th>\n",
              "      <td>2022-01-03</td>\n",
              "      <td>2022-06-30</td>\n",
              "      <td>Turnada a Concil Person p/seg</td>\n",
              "      <td>Desistimiento</td>\n",
              "      <td>COMERCIAL IAC, SA DE CV</td>\n",
              "      <td>COMERCIAL IAC, SA DE CV</td>\n",
              "      <td>TIENDA DE ROPA</td>\n",
              "      <td>TIENDA DE ROPA</td>\n",
              "      <td>AGUASCALIENTES</td>\n",
              "      <td>Cobro indebido</td>\n",
              "      <td>...</td>\n",
              "      <td>279.98</td>\n",
              "      <td>NaN</td>\n",
              "      <td>NaN</td>\n",
              "      <td>Conciliación personal</td>\n",
              "      <td>Bien</td>\n",
              "      <td>Personal</td>\n",
              "      <td>Servicio normal</td>\n",
              "      <td>En establecimiento físico</td>\n",
              "      <td>Contado</td>\n",
              "      <td>No problema especial</td>\n",
              "    </tr>\n",
              "    <tr>\n",
              "      <th>2</th>\n",
              "      <td>2022-01-03</td>\n",
              "      <td>2022-02-22</td>\n",
              "      <td>Turnada a Concil Person p/seg</td>\n",
              "      <td>Desistimiento</td>\n",
              "      <td>FRANCISCO GARCIA SANTANA</td>\n",
              "      <td>FRANCISCO GARCIA SANTANA</td>\n",
              "      <td>HERRERÍA</td>\n",
              "      <td>HERRERÍA</td>\n",
              "      <td>AGUASCALIENTES</td>\n",
              "      <td>Entrega del producto o servicio</td>\n",
              "      <td>...</td>\n",
              "      <td>4500.00</td>\n",
              "      <td>NaN</td>\n",
              "      <td>NaN</td>\n",
              "      <td>Conciliación personal</td>\n",
              "      <td>Servicio</td>\n",
              "      <td>Personal</td>\n",
              "      <td>Servicio normal</td>\n",
              "      <td>En establecimiento físico</td>\n",
              "      <td>Contado</td>\n",
              "      <td>No problema especial</td>\n",
              "    </tr>\n",
              "    <tr>\n",
              "      <th>3</th>\n",
              "      <td>2022-01-03</td>\n",
              "      <td>2022-03-03</td>\n",
              "      <td>Turnada a Concil Person p/seg</td>\n",
              "      <td>Conciliada</td>\n",
              "      <td>MINISO MEXICO, SAPI DE CV</td>\n",
              "      <td>MINISO MEXICO, SAPI DE CV</td>\n",
              "      <td>TIENDA DEPARTAMENTAL</td>\n",
              "      <td>TIENDA DEPARTAMENTAL</td>\n",
              "      <td>AGUASCALIENTES</td>\n",
              "      <td>Publicidad, ofertas y promociones</td>\n",
              "      <td>...</td>\n",
              "      <td>299.90</td>\n",
              "      <td>60.0</td>\n",
              "      <td>60.0</td>\n",
              "      <td>Conciliación personal</td>\n",
              "      <td>Bien</td>\n",
              "      <td>Personal</td>\n",
              "      <td>Producto nuevo</td>\n",
              "      <td>En establecimiento físico</td>\n",
              "      <td>Contado</td>\n",
              "      <td>No problema especial</td>\n",
              "    </tr>\n",
              "    <tr>\n",
              "      <th>4</th>\n",
              "      <td>2022-01-03</td>\n",
              "      <td>2022-04-21</td>\n",
              "      <td>Turnada a Concil Person p/seg</td>\n",
              "      <td>Conciliada</td>\n",
              "      <td>WHIRLPOOL MEXICO, S DE RL DE CV</td>\n",
              "      <td>WHIRLPOOL</td>\n",
              "      <td>FABRICACIÓN DE ELECTRODOMÉSTICOS Y LÍNEA BLANCA</td>\n",
              "      <td>FABRICACIÓN DE ELECTRODOMÉSTICOS Y LÍNEA BLANCA</td>\n",
              "      <td>AGUASCALIENTES</td>\n",
              "      <td>Garantías</td>\n",
              "      <td>...</td>\n",
              "      <td>5999.00</td>\n",
              "      <td>0.0</td>\n",
              "      <td>NaN</td>\n",
              "      <td>Conciliación personal</td>\n",
              "      <td>Bien</td>\n",
              "      <td>Personal</td>\n",
              "      <td>Producto nuevo</td>\n",
              "      <td>En establecimiento físico</td>\n",
              "      <td>Contado</td>\n",
              "      <td>No problema especial</td>\n",
              "    </tr>\n",
              "  </tbody>\n",
              "</table>\n",
              "<p>5 rows × 21 columns</p>\n",
              "</div>\n",
              "      <button class=\"colab-df-convert\" onclick=\"convertToInteractive('df-3d38a294-710c-45ba-b34a-6c51cd31eb65')\"\n",
              "              title=\"Convert this dataframe to an interactive table.\"\n",
              "              style=\"display:none;\">\n",
              "        \n",
              "  <svg xmlns=\"http://www.w3.org/2000/svg\" height=\"24px\"viewBox=\"0 0 24 24\"\n",
              "       width=\"24px\">\n",
              "    <path d=\"M0 0h24v24H0V0z\" fill=\"none\"/>\n",
              "    <path d=\"M18.56 5.44l.94 2.06.94-2.06 2.06-.94-2.06-.94-.94-2.06-.94 2.06-2.06.94zm-11 1L8.5 8.5l.94-2.06 2.06-.94-2.06-.94L8.5 2.5l-.94 2.06-2.06.94zm10 10l.94 2.06.94-2.06 2.06-.94-2.06-.94-.94-2.06-.94 2.06-2.06.94z\"/><path d=\"M17.41 7.96l-1.37-1.37c-.4-.4-.92-.59-1.43-.59-.52 0-1.04.2-1.43.59L10.3 9.45l-7.72 7.72c-.78.78-.78 2.05 0 2.83L4 21.41c.39.39.9.59 1.41.59.51 0 1.02-.2 1.41-.59l7.78-7.78 2.81-2.81c.8-.78.8-2.07 0-2.86zM5.41 20L4 18.59l7.72-7.72 1.47 1.35L5.41 20z\"/>\n",
              "  </svg>\n",
              "      </button>\n",
              "      \n",
              "  <style>\n",
              "    .colab-df-container {\n",
              "      display:flex;\n",
              "      flex-wrap:wrap;\n",
              "      gap: 12px;\n",
              "    }\n",
              "\n",
              "    .colab-df-convert {\n",
              "      background-color: #E8F0FE;\n",
              "      border: none;\n",
              "      border-radius: 50%;\n",
              "      cursor: pointer;\n",
              "      display: none;\n",
              "      fill: #1967D2;\n",
              "      height: 32px;\n",
              "      padding: 0 0 0 0;\n",
              "      width: 32px;\n",
              "    }\n",
              "\n",
              "    .colab-df-convert:hover {\n",
              "      background-color: #E2EBFA;\n",
              "      box-shadow: 0px 1px 2px rgba(60, 64, 67, 0.3), 0px 1px 3px 1px rgba(60, 64, 67, 0.15);\n",
              "      fill: #174EA6;\n",
              "    }\n",
              "\n",
              "    [theme=dark] .colab-df-convert {\n",
              "      background-color: #3B4455;\n",
              "      fill: #D2E3FC;\n",
              "    }\n",
              "\n",
              "    [theme=dark] .colab-df-convert:hover {\n",
              "      background-color: #434B5C;\n",
              "      box-shadow: 0px 1px 3px 1px rgba(0, 0, 0, 0.15);\n",
              "      filter: drop-shadow(0px 1px 2px rgba(0, 0, 0, 0.3));\n",
              "      fill: #FFFFFF;\n",
              "    }\n",
              "  </style>\n",
              "\n",
              "      <script>\n",
              "        const buttonEl =\n",
              "          document.querySelector('#df-3d38a294-710c-45ba-b34a-6c51cd31eb65 button.colab-df-convert');\n",
              "        buttonEl.style.display =\n",
              "          google.colab.kernel.accessAllowed ? 'block' : 'none';\n",
              "\n",
              "        async function convertToInteractive(key) {\n",
              "          const element = document.querySelector('#df-3d38a294-710c-45ba-b34a-6c51cd31eb65');\n",
              "          const dataTable =\n",
              "            await google.colab.kernel.invokeFunction('convertToInteractive',\n",
              "                                                     [key], {});\n",
              "          if (!dataTable) return;\n",
              "\n",
              "          const docLinkHtml = 'Like what you see? Visit the ' +\n",
              "            '<a target=\"_blank\" href=https://colab.research.google.com/notebooks/data_table.ipynb>data table notebook</a>'\n",
              "            + ' to learn more about interactive tables.';\n",
              "          element.innerHTML = '';\n",
              "          dataTable['output_type'] = 'display_data';\n",
              "          await google.colab.output.renderOutput(dataTable, element);\n",
              "          const docLink = document.createElement('div');\n",
              "          docLink.innerHTML = docLinkHtml;\n",
              "          element.appendChild(docLink);\n",
              "        }\n",
              "      </script>\n",
              "    </div>\n",
              "  </div>\n",
              "  "
            ]
          },
          "metadata": {},
          "execution_count": 233
        }
      ]
    },
    {
      "cell_type": "code",
      "source": [
        "#agragamos una columna llamada mes\n",
        "df['MES_NUM'] = df['FECHA_INGRESO'].dt.month\n",
        "mese = [\"Enero\", \"Febrero\", \"Marzo\", \"Abril\", \"Mayo\", \"Junio\", \"Julio\", \"Agosto\", \"Septiembre\", \"Octubre\", \"Noviembre\", \"Diciembre\"]\n",
        "df['MES'] = df['MES_NUM'].map(lambda x: mese[x-1])"
      ],
      "metadata": {
        "id": "5IPh2S49Qt1h"
      },
      "execution_count": 262,
      "outputs": []
    },
    {
      "cell_type": "markdown",
      "source": [
        "**PREGUNTAS PARA EL ANÁLISIS DE LOS DATOS**"
      ],
      "metadata": {
        "id": "yOHZDEF-xCl_"
      }
    },
    {
      "cell_type": "markdown",
      "source": [
        "1. ¿Cuáles son los estados con más quejas?"
      ],
      "metadata": {
        "id": "E1yjz3y9EM4e"
      }
    },
    {
      "cell_type": "code",
      "source": [
        "quejas_estado = df['ESTADO'].value_counts()\n",
        "print(quejas_estado.head(10))\n",
        "\n",
        "# agrupa las denuncias por entidad federativa\n",
        "agrupado = df.groupby(['ESTADO']).count()\n",
        "# obtiene el número de denuncias para cada entidad federativa\n",
        "quejas = agrupado['TIPO_CONCILIACION'].tolist()\n",
        "\n",
        "# crea un gráfico de barras\n",
        "plt.bar(agrupado.index, quejas)\n",
        "plt.xlabel('Estado')\n",
        "plt.ylabel('Número de denuncias')\n",
        "plt.title('Denuncias por estado')\n",
        "\n",
        "# muestra el gráfico\n",
        "plt.show()"
      ],
      "metadata": {
        "colab": {
          "base_uri": "https://localhost:8080/",
          "height": 487
        },
        "id": "2gvDVVKlsfIU",
        "outputId": "d97328f0-a20b-4bc5-c9b1-e3eb9dfdf378"
      },
      "execution_count": 256,
      "outputs": [
        {
          "output_type": "stream",
          "name": "stdout",
          "text": [
            "CIUDAD DE MÉXICO    28108\n",
            "EDO. DE MÉXICO       7116\n",
            "CHIHUAHUA            4225\n",
            "VERACRUZ             3651\n",
            "GUANAJUATO           3555\n",
            "JALISCO              3132\n",
            "QUERÉTARO            2357\n",
            "YUCATÁN              2087\n",
            "AGUASCALIENTES       1856\n",
            "COAHUILA             1726\n",
            "Name: ESTADO, dtype: int64\n"
          ]
        },
        {
          "output_type": "display_data",
          "data": {
            "text/plain": [
              "<Figure size 432x288 with 1 Axes>"
            ],
            "image/png": "[encoded data removed]"
          },
          "metadata": {
            "needs_background": "light"
          }
        }
      ]
    },
    {
      "cell_type": "markdown",
      "source": [
        "2. Número de quejas por mes"
      ],
      "metadata": {
        "id": "iv_zyDT6OjGS"
      }
    },
    {
      "cell_type": "code",
      "source": [
        "meses = {\n",
        "    'January': 'Enero', 'February': 'Febrero', 'March': 'Marzo', 'April':'Abril', 'May':'Mayo','June':'Junio', \n",
        "    'July':'Julio','August':'Agosto','September':'Septiembre','October':'Octubre','November':'Noviembre','December':'Diciembre'\n",
        "}\n",
        "quejas_mes = df['FECHA_INGRESO'].dt.strftime('%B').map(meses).value_counts()\n",
        "print(quejas_mes.head(12))\n",
        "\n",
        "# crea un gráfico de barras\n",
        "plt.bar(quejas_mes.index, quejas_mes.tolist())\n",
        "plt.xlabel('MES')\n",
        "plt.ylabel('Número de denuncias')\n",
        "plt.title('Denuncias por MES')\n",
        "plt.show()\n",
        "\n"
      ],
      "metadata": {
        "colab": {
          "base_uri": "https://localhost:8080/",
          "height": 521
        },
        "id": "Htwgh42i-xLI",
        "outputId": "200a257c-3c2b-43f9-e469-d21525dde486"
      },
      "execution_count": 257,
      "outputs": [
        {
          "output_type": "stream",
          "name": "stdout",
          "text": [
            "Marzo         8038\n",
            "Junio         7831\n",
            "Mayo          7718\n",
            "Agosto        7555\n",
            "Julio         7021\n",
            "Noviembre     6871\n",
            "Octubre       6869\n",
            "Abril         6820\n",
            "Febrero       6714\n",
            "Enero         6689\n",
            "Septiembre    6680\n",
            "Diciembre     3984\n",
            "Name: FECHA_INGRESO, dtype: int64\n"
          ]
        },
        {
          "output_type": "display_data",
          "data": {
            "text/plain": [
              "<Figure size 432x288 with 1 Axes>"
            ],
            "image/png": "[encoded data removed]"
          },
          "metadata": {
            "needs_background": "light"
          }
        }
      ]
    },
    {
      "cell_type": "markdown",
      "source": [
        "3. ¿Cuál es el sector más denunciado en promedio por entidad federativa?"
      ],
      "metadata": {
        "id": "DdwbxOCxO071"
      }
    },
    {
      "cell_type": "code",
      "source": [
        "sectores_denunciados_por_entidad = df.groupby([\"ESTADO\", \"SECTOR\"]).size().reset_index(name=\"denuncias\")\n",
        "df.groupby([\"ESTADO\", \"SECTOR\"]).size().reset_index(name=\"denuncias\")\n",
        "sectores_promedio_por_entidad = sectores_denunciados_por_entidad.groupby(\"ESTADO\").mean().reset_index()\n",
        "sectores_denunciados_por_entidad.groupby(\"ESTADO\").mean().reset_index()\n",
        "entidad_con_sector_promedio_mas_alto = sectores_promedio_por_entidad.loc[sectores_promedio_por_entidad[\"denuncias\"].idxmax()][\"ESTADO\"]\n",
        "sectores_promedio_por_entidad.loc[sectores_promedio_por_entidad[\"denuncias\"].idxmax()][\"ESTADO\"]\n",
        "sector_promedio_mas_alto_por_entidad = df[df[\"ESTADO\"] == entidad_con_sector_promedio_mas_alto][\"SECTOR\"].value_counts().index[0]\n",
        "df[df[\"ESTADO\"] == entidad_con_sector_promedio_mas_alto][\"SECTOR\"].value_counts().index[0]\n",
        "prom_alto=sectores_promedio_por_entidad.loc[sectores_promedio_por_entidad[\"ESTADO\"] == entidad_con_sector_promedio_mas_alto][\"denuncias\"].values[0]\n",
        "print(f\"El sector más denunciado en promedio por entidad federativa es {sector_promedio_mas_alto_por_entidad} en la entidad {entidad_con_sector_promedio_mas_alto} con un promedio de {prom_alto} denuncias por sector.\")\n",
        "\n"
      ],
      "metadata": {
        "colab": {
          "base_uri": "https://localhost:8080/"
        },
        "id": "VjBxKYQEt4Sj",
        "outputId": "b06f7ac6-a2c7-4710-a8f0-cceb5e95c015"
      },
      "execution_count": 258,
      "outputs": [
        {
          "output_type": "stream",
          "name": "stdout",
          "text": [
            "El sector más denunciado en promedio por entidad federativa es TURÍSTICO en la entidad CIUDAD DE MÉXICO con un promedio de 136.44660194174756 denuncias por sector.\n"
          ]
        }
      ]
    },
    {
      "cell_type": "markdown",
      "source": [
        "4. ¿Cuál es el monto reclamado y recuperado por mes?"
      ],
      "metadata": {
        "id": "YluomPC3O3sz"
      }
    },
    {
      "cell_type": "code",
      "source": [
        "agrupado_monto = df.groupby(['MES_NUM']).sum()\n",
        "agrupado_monto.rename(index={1: \"Enero\", 2: \"Febrero\", 3: \"Marzo\", 4:\"Abril\", 5:\"Mayo\", 6:\"Junio\", 7:\"Julio\", 8:\"Agosto\", 9:\"Septiembre\", 10:\"Octubre\", 11:\"Noviembre\", 12:\"Diciembre\"}, inplace=True)\n",
        "agrupado_monto[['MONTO_RECLAMADO','MONTO_RECUPERADO']]"
      ],
      "metadata": {
        "colab": {
          "base_uri": "https://localhost:8080/",
          "height": 457
        },
        "id": "jZk1qZazPbVz",
        "outputId": "82d24e38-954c-4392-a96e-1ed0a7d6a175"
      },
      "execution_count": 279,
      "outputs": [
        {
          "output_type": "execute_result",
          "data": {
            "text/plain": [
              "            MONTO_RECLAMADO  MONTO_RECUPERADO\n",
              "MES_NUM                                      \n",
              "Enero           52889798.08       49689316.22\n",
              "Febrero         42011460.41       38600194.24\n",
              "Marzo           60060063.39       54736182.87\n",
              "Abril           42282252.48       46084089.83\n",
              "Mayo            50340368.11       53248866.14\n",
              "Junio           40894354.58       44760585.47\n",
              "Julio           22072913.81       25172571.89\n",
              "Agosto          17125434.81       19405924.26\n",
              "Septiembre       2352127.88        3149237.51\n",
              "Octubre           136475.20         353103.16\n",
              "Noviembre         154800.46         454865.13\n",
              "Diciembre         373196.82         494046.36"
            ],
            "text/html": [
              "\n",
              "  <div id=\"df-8aef6481-8e45-48fc-b2e1-4dc6292376e4\">\n",
              "    <div class=\"colab-df-container\">\n",
              "      <div>\n",
              "<style scoped>\n",
              "    .dataframe tbody tr th:only-of-type {\n",
              "        vertical-align: middle;\n",
              "    }\n",
              "\n",
              "    .dataframe tbody tr th {\n",
              "        vertical-align: top;\n",
              "    }\n",
              "\n",
              "    .dataframe thead th {\n",
              "        text-align: right;\n",
              "    }\n",
              "</style>\n",
              "<table border=\"1\" class=\"dataframe\">\n",
              "  <thead>\n",
              "    <tr style=\"text-align: right;\">\n",
              "      <th></th>\n",
              "      <th>MONTO_RECLAMADO</th>\n",
              "      <th>MONTO_RECUPERADO</th>\n",
              "    </tr>\n",
              "    <tr>\n",
              "      <th>MES_NUM</th>\n",
              "      <th></th>\n",
              "      <th></th>\n",
              "    </tr>\n",
              "  </thead>\n",
              "  <tbody>\n",
              "    <tr>\n",
              "      <th>Enero</th>\n",
              "      <td>52889798.08</td>\n",
              "      <td>49689316.22</td>\n",
              "    </tr>\n",
              "    <tr>\n",
              "      <th>Febrero</th>\n",
              "      <td>42011460.41</td>\n",
              "      <td>38600194.24</td>\n",
              "    </tr>\n",
              "    <tr>\n",
              "      <th>Marzo</th>\n",
              "      <td>60060063.39</td>\n",
              "      <td>54736182.87</td>\n",
              "    </tr>\n",
              "    <tr>\n",
              "      <th>Abril</th>\n",
              "      <td>42282252.48</td>\n",
              "      <td>46084089.83</td>\n",
              "    </tr>\n",
              "    <tr>\n",
              "      <th>Mayo</th>\n",
              "      <td>50340368.11</td>\n",
              "      <td>53248866.14</td>\n",
              "    </tr>\n",
              "    <tr>\n",
              "      <th>Junio</th>\n",
              "      <td>40894354.58</td>\n",
              "      <td>44760585.47</td>\n",
              "    </tr>\n",
              "    <tr>\n",
              "      <th>Julio</th>\n",
              "      <td>22072913.81</td>\n",
              "      <td>25172571.89</td>\n",
              "    </tr>\n",
              "    <tr>\n",
              "      <th>Agosto</th>\n",
              "      <td>17125434.81</td>\n",
              "      <td>19405924.26</td>\n",
              "    </tr>\n",
              "    <tr>\n",
              "      <th>Septiembre</th>\n",
              "      <td>2352127.88</td>\n",
              "      <td>3149237.51</td>\n",
              "    </tr>\n",
              "    <tr>\n",
              "      <th>Octubre</th>\n",
              "      <td>136475.20</td>\n",
              "      <td>353103.16</td>\n",
              "    </tr>\n",
              "    <tr>\n",
              "      <th>Noviembre</th>\n",
              "      <td>154800.46</td>\n",
              "      <td>454865.13</td>\n",
              "    </tr>\n",
              "    <tr>\n",
              "      <th>Diciembre</th>\n",
              "      <td>373196.82</td>\n",
              "      <td>494046.36</td>\n",
              "    </tr>\n",
              "  </tbody>\n",
              "</table>\n",
              "</div>\n",
              "      <button class=\"colab-df-convert\" onclick=\"convertToInteractive('df-8aef6481-8e45-48fc-b2e1-4dc6292376e4')\"\n",
              "              title=\"Convert this dataframe to an interactive table.\"\n",
              "              style=\"display:none;\">\n",
              "        \n",
              "  <svg xmlns=\"http://www.w3.org/2000/svg\" height=\"24px\"viewBox=\"0 0 24 24\"\n",
              "       width=\"24px\">\n",
              "    <path d=\"M0 0h24v24H0V0z\" fill=\"none\"/>\n",
              "    <path d=\"M18.56 5.44l.94 2.06.94-2.06 2.06-.94-2.06-.94-.94-2.06-.94 2.06-2.06.94zm-11 1L8.5 8.5l.94-2.06 2.06-.94-2.06-.94L8.5 2.5l-.94 2.06-2.06.94zm10 10l.94 2.06.94-2.06 2.06-.94-2.06-.94-.94-2.06-.94 2.06-2.06.94z\"/><path d=\"M17.41 7.96l-1.37-1.37c-.4-.4-.92-.59-1.43-.59-.52 0-1.04.2-1.43.59L10.3 9.45l-7.72 7.72c-.78.78-.78 2.05 0 2.83L4 21.41c.39.39.9.59 1.41.59.51 0 1.02-.2 1.41-.59l7.78-7.78 2.81-2.81c.8-.78.8-2.07 0-2.86zM5.41 20L4 18.59l7.72-7.72 1.47 1.35L5.41 20z\"/>\n",
              "  </svg>\n",
              "      </button>\n",
              "      \n",
              "  <style>\n",
              "    .colab-df-container {\n",
              "      display:flex;\n",
              "      flex-wrap:wrap;\n",
              "      gap: 12px;\n",
              "    }\n",
              "\n",
              "    .colab-df-convert {\n",
              "      background-color: #E8F0FE;\n",
              "      border: none;\n",
              "      border-radius: 50%;\n",
              "      cursor: pointer;\n",
              "      display: none;\n",
              "      fill: #1967D2;\n",
              "      height: 32px;\n",
              "      padding: 0 0 0 0;\n",
              "      width: 32px;\n",
              "    }\n",
              "\n",
              "    .colab-df-convert:hover {\n",
              "      background-color: #E2EBFA;\n",
              "      box-shadow: 0px 1px 2px rgba(60, 64, 67, 0.3), 0px 1px 3px 1px rgba(60, 64, 67, 0.15);\n",
              "      fill: #174EA6;\n",
              "    }\n",
              "\n",
              "    [theme=dark] .colab-df-convert {\n",
              "      background-color: #3B4455;\n",
              "      fill: #D2E3FC;\n",
              "    }\n",
              "\n",
              "    [theme=dark] .colab-df-convert:hover {\n",
              "      background-color: #434B5C;\n",
              "      box-shadow: 0px 1px 3px 1px rgba(0, 0, 0, 0.15);\n",
              "      filter: drop-shadow(0px 1px 2px rgba(0, 0, 0, 0.3));\n",
              "      fill: #FFFFFF;\n",
              "    }\n",
              "  </style>\n",
              "\n",
              "      <script>\n",
              "        const buttonEl =\n",
              "          document.querySelector('#df-8aef6481-8e45-48fc-b2e1-4dc6292376e4 button.colab-df-convert');\n",
              "        buttonEl.style.display =\n",
              "          google.colab.kernel.accessAllowed ? 'block' : 'none';\n",
              "\n",
              "        async function convertToInteractive(key) {\n",
              "          const element = document.querySelector('#df-8aef6481-8e45-48fc-b2e1-4dc6292376e4');\n",
              "          const dataTable =\n",
              "            await google.colab.kernel.invokeFunction('convertToInteractive',\n",
              "                                                     [key], {});\n",
              "          if (!dataTable) return;\n",
              "\n",
              "          const docLinkHtml = 'Like what you see? Visit the ' +\n",
              "            '<a target=\"_blank\" href=https://colab.research.google.com/notebooks/data_table.ipynb>data table notebook</a>'\n",
              "            + ' to learn more about interactive tables.';\n",
              "          element.innerHTML = '';\n",
              "          dataTable['output_type'] = 'display_data';\n",
              "          await google.colab.output.renderOutput(dataTable, element);\n",
              "          const docLink = document.createElement('div');\n",
              "          docLink.innerHTML = docLinkHtml;\n",
              "          element.appendChild(docLink);\n",
              "        }\n",
              "      </script>\n",
              "    </div>\n",
              "  </div>\n",
              "  "
            ]
          },
          "metadata": {},
          "execution_count": 279
        }
      ]
    },
    {
      "cell_type": "markdown",
      "source": [
        "5. Cantidad de quejas resueltas o en que estatus están"
      ],
      "metadata": {
        "id": "_SPNOh4dVZXH"
      }
    },
    {
      "cell_type": "code",
      "source": [
        "quejas_status = df['ESTADO_PROCESAL'].value_counts()\n",
        "print(quejas_status)"
      ],
      "metadata": {
        "colab": {
          "base_uri": "https://localhost:8080/"
        },
        "id": "9K-qcJ49VlU3",
        "outputId": "b91e7d29-3ccc-47b3-a306-0f173a80ca39"
      },
      "execution_count": 280,
      "outputs": [
        {
          "output_type": "stream",
          "name": "stdout",
          "text": [
            "En Trámite                       34937\n",
            "Conciliada                       24811\n",
            "Desistimiento                    15911\n",
            "No Conciliada                     6695\n",
            "Improcedente                       426\n",
            "Turnada a Concil Medios Elec.        9\n",
            "Turnada a Concil Person p/seg        1\n",
            "Name: ESTADO_PROCESAL, dtype: int64\n"
          ]
        }
      ]
    }
  ]
}